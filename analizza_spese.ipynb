{
 "cells": [
  {
   "cell_type": "code",
   "execution_count": 1,
   "metadata": {},
   "outputs": [],
   "source": [
    "import pandas as pd\n",
    "import glob\n",
    "import os"
   ]
  },
  {
   "cell_type": "code",
   "execution_count": 11,
   "metadata": {},
   "outputs": [
    {
     "name": "stdout",
     "output_type": "stream",
     "text": [
      "                 categoria                esercente         data       valore\n",
      "0         Da Categorizzare                      NaN  04 AGO 2023  - €1.000,00\n",
      "1         Da Categorizzare  ADDEBITO PREAUTORIZZATO  01 AGO 2023    - €167,85\n",
      "2                 Prelievi       PRELIEVO ATM POSTE  09 AGO 2023    - €150,00\n",
      "3    Locali e divertimento            PAGAMENTO POS  22 AGO 2023     - €88,00\n",
      "4         Da Categorizzare                POSTAGIRO  07 AGO 2023     - €83,00\n",
      "..                     ...                      ...          ...          ...\n",
      "322  Ristoranti e pizzerie            PAGAMENTO POS  24 SET 2023      - €3,90\n",
      "323  Locali e divertimento            PAGAMENTO POS  19 SET 2023      - €3,60\n",
      "324           Supermercati            PAGAMENTO POS  27 SET 2023      - €3,24\n",
      "325    Pedaggi e Parcheggi                  PEDAGGI  05 SET 2023      - €2,40\n",
      "326           Supermercati            PAGAMENTO POS  11 SET 2023      - €1,79\n",
      "\n",
      "[327 rows x 4 columns]\n"
     ]
    }
   ],
   "source": [
    "path = r'.\\\\'\n",
    "all_files = glob.glob(os.path.join(path,\"Spese_*csv\"))\n",
    "\n",
    "li =[]\n",
    "\n",
    "for filename in all_files:\n",
    "    df =pd.read_csv(filename,index_col=None,header=0)\n",
    "    li.append(df)\n",
    "\n",
    "frame = pd.concat(li,axis=0, ignore_index = True)\n",
    "print(frame)\n",
    "\n"
   ]
  },
  {
   "cell_type": "code",
   "execution_count": 12,
   "metadata": {},
   "outputs": [
    {
     "data": {
      "text/plain": [
       "0      - 1000.00\n",
       "1       - 167.85\n",
       "2       - 150.00\n",
       "3        - 88.00\n",
       "4        - 83.00\n",
       "         ...    \n",
       "322       - 3.90\n",
       "323       - 3.60\n",
       "324       - 3.24\n",
       "325       - 2.40\n",
       "326       - 1.79\n",
       "Name: valore, Length: 327, dtype: object"
      ]
     },
     "execution_count": 12,
     "metadata": {},
     "output_type": "execute_result"
    }
   ],
   "source": [
    "#frame['valore']=frame['valore'].str.replace(' ','')\n",
    "frame['valore']=frame['valore'].str.replace('.','')\n",
    "frame['valore']= frame['valore'].str.replace('€','')\n",
    "frame['valore']=frame['valore'].str.replace(',','.')\n",
    "frame['valore']"
   ]
  },
  {
   "cell_type": "code",
   "execution_count": 13,
   "metadata": {},
   "outputs": [
    {
     "data": {
      "text/plain": [
       "0     -1000.00\n",
       "1      -167.85\n",
       "2      -150.00\n",
       "3       -88.00\n",
       "4       -83.00\n",
       "        ...   \n",
       "322      -3.90\n",
       "323      -3.60\n",
       "324      -3.24\n",
       "325      -2.40\n",
       "326      -1.79\n",
       "Name: valore, Length: 327, dtype: float64"
      ]
     },
     "execution_count": 13,
     "metadata": {},
     "output_type": "execute_result"
    }
   ],
   "source": [
    "frame['valore']=frame['valore'].str.replace(' ','')\n",
    "frame['valore'] = frame['valore'].astype('float64')\n",
    "frame['valore']"
   ]
  },
  {
   "cell_type": "code",
   "execution_count": 14,
   "metadata": {},
   "outputs": [
    {
     "data": {
      "text/html": [
       "<div>\n",
       "<style scoped>\n",
       "    .dataframe tbody tr th:only-of-type {\n",
       "        vertical-align: middle;\n",
       "    }\n",
       "\n",
       "    .dataframe tbody tr th {\n",
       "        vertical-align: top;\n",
       "    }\n",
       "\n",
       "    .dataframe thead th {\n",
       "        text-align: right;\n",
       "    }\n",
       "</style>\n",
       "<table border=\"1\" class=\"dataframe\">\n",
       "  <thead>\n",
       "    <tr style=\"text-align: right;\">\n",
       "      <th></th>\n",
       "      <th>categoria</th>\n",
       "      <th>data</th>\n",
       "      <th>valore</th>\n",
       "    </tr>\n",
       "  </thead>\n",
       "  <tbody>\n",
       "    <tr>\n",
       "      <th>0</th>\n",
       "      <td>Abbigliamento e calzature</td>\n",
       "      <td>05 GIU 2023</td>\n",
       "      <td>-58.80</td>\n",
       "    </tr>\n",
       "    <tr>\n",
       "      <th>1</th>\n",
       "      <td>Abbigliamento e calzature</td>\n",
       "      <td>11 FEB 2023</td>\n",
       "      <td>-11.61</td>\n",
       "    </tr>\n",
       "    <tr>\n",
       "      <th>2</th>\n",
       "      <td>Abbigliamento e calzature</td>\n",
       "      <td>14 GIU 2023</td>\n",
       "      <td>-15.00</td>\n",
       "    </tr>\n",
       "    <tr>\n",
       "      <th>3</th>\n",
       "      <td>Abbigliamento e calzature</td>\n",
       "      <td>14 MAG 2023</td>\n",
       "      <td>-9.90</td>\n",
       "    </tr>\n",
       "    <tr>\n",
       "      <th>4</th>\n",
       "      <td>Abbigliamento e calzature</td>\n",
       "      <td>24 SET 2023</td>\n",
       "      <td>-20.00</td>\n",
       "    </tr>\n",
       "    <tr>\n",
       "      <th>...</th>\n",
       "      <td>...</td>\n",
       "      <td>...</td>\n",
       "      <td>...</td>\n",
       "    </tr>\n",
       "    <tr>\n",
       "      <th>276</th>\n",
       "      <td>Treno</td>\n",
       "      <td>25 APR 2023</td>\n",
       "      <td>-4.60</td>\n",
       "    </tr>\n",
       "    <tr>\n",
       "      <th>277</th>\n",
       "      <td>Utenze e abbonamenti</td>\n",
       "      <td>06 LUG 2023</td>\n",
       "      <td>-10.00</td>\n",
       "    </tr>\n",
       "    <tr>\n",
       "      <th>278</th>\n",
       "      <td>Utenze e abbonamenti</td>\n",
       "      <td>18 SET 2023</td>\n",
       "      <td>-10.00</td>\n",
       "    </tr>\n",
       "    <tr>\n",
       "      <th>279</th>\n",
       "      <td>Utenze e abbonamenti</td>\n",
       "      <td>20 MAG 2023</td>\n",
       "      <td>-10.00</td>\n",
       "    </tr>\n",
       "    <tr>\n",
       "      <th>280</th>\n",
       "      <td>Visite e analisi</td>\n",
       "      <td>07 SET 2023</td>\n",
       "      <td>-85.00</td>\n",
       "    </tr>\n",
       "  </tbody>\n",
       "</table>\n",
       "<p>281 rows × 3 columns</p>\n",
       "</div>"
      ],
      "text/plain": [
       "                     categoria         data  valore\n",
       "0    Abbigliamento e calzature  05 GIU 2023  -58.80\n",
       "1    Abbigliamento e calzature  11 FEB 2023  -11.61\n",
       "2    Abbigliamento e calzature  14 GIU 2023  -15.00\n",
       "3    Abbigliamento e calzature  14 MAG 2023   -9.90\n",
       "4    Abbigliamento e calzature  24 SET 2023  -20.00\n",
       "..                         ...          ...     ...\n",
       "276                      Treno  25 APR 2023   -4.60\n",
       "277       Utenze e abbonamenti  06 LUG 2023  -10.00\n",
       "278       Utenze e abbonamenti  18 SET 2023  -10.00\n",
       "279       Utenze e abbonamenti  20 MAG 2023  -10.00\n",
       "280           Visite e analisi  07 SET 2023  -85.00\n",
       "\n",
       "[281 rows x 3 columns]"
      ]
     },
     "execution_count": 14,
     "metadata": {},
     "output_type": "execute_result"
    }
   ],
   "source": [
    "\n",
    "\n",
    "categoria_data = frame.groupby([\"categoria\",\"data\"])[\"valore\"].sum().reset_index(name=\"valore\")\n",
    "categoria_data"
   ]
  },
  {
   "cell_type": "code",
   "execution_count": 15,
   "metadata": {},
   "outputs": [
    {
     "data": {
      "text/html": [
       "<div>\n",
       "<style scoped>\n",
       "    .dataframe tbody tr th:only-of-type {\n",
       "        vertical-align: middle;\n",
       "    }\n",
       "\n",
       "    .dataframe tbody tr th {\n",
       "        vertical-align: top;\n",
       "    }\n",
       "\n",
       "    .dataframe thead th {\n",
       "        text-align: right;\n",
       "    }\n",
       "</style>\n",
       "<table border=\"1\" class=\"dataframe\">\n",
       "  <thead>\n",
       "    <tr style=\"text-align: right;\">\n",
       "      <th></th>\n",
       "      <th>data</th>\n",
       "      <th>categoria</th>\n",
       "      <th>valore</th>\n",
       "    </tr>\n",
       "  </thead>\n",
       "  <tbody>\n",
       "    <tr>\n",
       "      <th>0</th>\n",
       "      <td>01 AGO 2023</td>\n",
       "      <td>Da Categorizzare</td>\n",
       "      <td>-167.85</td>\n",
       "    </tr>\n",
       "    <tr>\n",
       "      <th>1</th>\n",
       "      <td>01 AGO 2023</td>\n",
       "      <td>Supermercati</td>\n",
       "      <td>-4.81</td>\n",
       "    </tr>\n",
       "    <tr>\n",
       "      <th>2</th>\n",
       "      <td>01 GEN 2023</td>\n",
       "      <td>Da Categorizzare</td>\n",
       "      <td>-2.00</td>\n",
       "    </tr>\n",
       "    <tr>\n",
       "      <th>3</th>\n",
       "      <td>01 GIU 2023</td>\n",
       "      <td>Supermercati</td>\n",
       "      <td>-3.24</td>\n",
       "    </tr>\n",
       "    <tr>\n",
       "      <th>4</th>\n",
       "      <td>02 AGO 2023</td>\n",
       "      <td>Da Categorizzare</td>\n",
       "      <td>-0.40</td>\n",
       "    </tr>\n",
       "    <tr>\n",
       "      <th>...</th>\n",
       "      <td>...</td>\n",
       "      <td>...</td>\n",
       "      <td>...</td>\n",
       "    </tr>\n",
       "    <tr>\n",
       "      <th>276</th>\n",
       "      <td>31 AGO 2023</td>\n",
       "      <td>Fast food</td>\n",
       "      <td>-6.50</td>\n",
       "    </tr>\n",
       "    <tr>\n",
       "      <th>277</th>\n",
       "      <td>31 LUG 2023</td>\n",
       "      <td>Abbigliamento e calzature</td>\n",
       "      <td>-40.00</td>\n",
       "    </tr>\n",
       "    <tr>\n",
       "      <th>278</th>\n",
       "      <td>31 LUG 2023</td>\n",
       "      <td>Altro/Shopping e servizi</td>\n",
       "      <td>-12.61</td>\n",
       "    </tr>\n",
       "    <tr>\n",
       "      <th>279</th>\n",
       "      <td>31 MAG 2023</td>\n",
       "      <td>Da Categorizzare</td>\n",
       "      <td>-0.40</td>\n",
       "    </tr>\n",
       "    <tr>\n",
       "      <th>280</th>\n",
       "      <td>31 MAR 2023</td>\n",
       "      <td>Supermercati</td>\n",
       "      <td>-4.21</td>\n",
       "    </tr>\n",
       "  </tbody>\n",
       "</table>\n",
       "<p>281 rows × 3 columns</p>\n",
       "</div>"
      ],
      "text/plain": [
       "            data                  categoria  valore\n",
       "0    01 AGO 2023           Da Categorizzare -167.85\n",
       "1    01 AGO 2023               Supermercati   -4.81\n",
       "2    01 GEN 2023           Da Categorizzare   -2.00\n",
       "3    01 GIU 2023               Supermercati   -3.24\n",
       "4    02 AGO 2023           Da Categorizzare   -0.40\n",
       "..           ...                        ...     ...\n",
       "276  31 AGO 2023                  Fast food   -6.50\n",
       "277  31 LUG 2023  Abbigliamento e calzature  -40.00\n",
       "278  31 LUG 2023   Altro/Shopping e servizi  -12.61\n",
       "279  31 MAG 2023           Da Categorizzare   -0.40\n",
       "280  31 MAR 2023               Supermercati   -4.21\n",
       "\n",
       "[281 rows x 3 columns]"
      ]
     },
     "execution_count": 15,
     "metadata": {},
     "output_type": "execute_result"
    }
   ],
   "source": [
    "data_categoria = frame.groupby([\"data\",\"categoria\"])[\"valore\"].sum().reset_index(name=\"valore\")\n",
    "data_categoria"
   ]
  },
  {
   "cell_type": "code",
   "execution_count": 16,
   "metadata": {},
   "outputs": [
    {
     "data": {
      "text/plain": [
       "categoria\n",
       "Abbigliamento e calzature       -155.31\n",
       "Aereo                           -115.57\n",
       "Affitto                         -600.00\n",
       "Altro/Casa                        -3.00\n",
       "Altro/Contanti                  -237.40\n",
       "Altro/Motori e trasporti         -80.72\n",
       "Altro/Shopping e servizi        -985.19\n",
       "Altro/Tempo libero e viaggi     -106.96\n",
       "Arredamento                      -70.87\n",
       "Associazioni                     -20.00\n",
       "Bar e caffè                     -106.92\n",
       "Carburante                      -322.23\n",
       "Cosmesi                          -15.95\n",
       "Cultura e spettacoli            -195.40\n",
       "Da Categorizzare               -5507.55\n",
       "Elettronica                     -199.95\n",
       "Farmacie                         -49.91\n",
       "Fast food                       -302.26\n",
       "Fitness e sport                  -85.30\n",
       "Imposte sulla casa               -40.00\n",
       "Libri, Giochi e Musica          -418.85\n",
       "Locali e divertimento           -281.30\n",
       "Manutenzione                     -24.60\n",
       "Noleggio                          -3.40\n",
       "Pedaggi e Parcheggi              -77.40\n",
       "Prelievi                        -500.00\n",
       "Prodotti di investimento       -1000.00\n",
       "Regali                           -95.80\n",
       "Ristoranti e pizzerie          -1206.22\n",
       "Spese condominiali               -83.00\n",
       "Supermercati                    -841.42\n",
       "Taxi e car sharing               -58.50\n",
       "Trasporto pubblico               -52.20\n",
       "Treno                            -32.40\n",
       "Utenze e abbonamenti             -30.00\n",
       "Visite e analisi                 -85.00\n",
       "totale                        -13990.58\n",
       "Name: valore, dtype: float64"
      ]
     },
     "execution_count": 16,
     "metadata": {},
     "output_type": "execute_result"
    }
   ],
   "source": [
    "categoria_metodo = frame.groupby(\"categoria\")[\"valore\"].sum()\n",
    "totale= frame[\"valore\"].sum()\n",
    "categoria_metodo.loc[\"totale\"] = totale\n",
    "categoria_metodo\n"
   ]
  },
  {
   "cell_type": "code",
   "execution_count": 17,
   "metadata": {},
   "outputs": [],
   "source": [
    "xlwriter= pd.ExcelWriter(\"budget_2023_23.xlsx\")\n",
    "\n",
    "frame.to_excel(xlwriter,sheet_name=\"Sheet1\")\n",
    "categoria_metodo.to_excel(xlwriter,sheet_name=\"SpesePerCategoria\")\n",
    "data_categoria.to_excel(xlwriter,sheet_name=\"SpeseGiornaliere\")\n",
    "xlwriter.close()\n"
   ]
  },
  {
   "cell_type": "code",
   "execution_count": null,
   "metadata": {},
   "outputs": [],
   "source": []
  }
 ],
 "metadata": {
  "kernelspec": {
   "display_name": "Python 3",
   "language": "python",
   "name": "python3"
  },
  "language_info": {
   "codemirror_mode": {
    "name": "ipython",
    "version": 3
   },
   "file_extension": ".py",
   "mimetype": "text/x-python",
   "name": "python",
   "nbconvert_exporter": "python",
   "pygments_lexer": "ipython3",
   "version": "3.8.2"
  }
 },
 "nbformat": 4,
 "nbformat_minor": 4
}
